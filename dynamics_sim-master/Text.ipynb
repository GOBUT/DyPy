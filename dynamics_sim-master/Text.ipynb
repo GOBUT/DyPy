{
 "cells": [
  {
   "cell_type": "markdown",
   "id": "5094a448",
   "metadata": {},
   "source": [
    "现在我们将使用DyPy模拟一群玩家进行囚徒困境的游戏，看看自然选择是否有利于叛逃。要做到这一点，我们首先要设置游戏。这涉及到指定策略、平衡点和与之相关的报酬矩阵。以下16行代码是用来准备博弈的"
   ]
  },
  {
   "cell_type": "markdown",
   "id": "0262a24e",
   "metadata": {},
   "source": [
    "给定代码定义了一个名为 SymmetricNPlayerGame 的类，它继承自 Game 类。该类提供了一个N人博弈的逻辑，其中每个玩家从相同的策略集中选择。\n",
    "\n",
    "类构造函数接受几个参数：\n",
    "\n",
    "payoff_matrix：一个二维列表，表示每个玩家的收益矩阵。由于这是对称博弈，因此这个矩阵应该是对称的。\n",
    "n：游戏中玩家类型的数量，对于一个两人对称博弈来说，通常为1。\n",
    "bias_strength、bias_scale 和 equilibrium_tolerance 为可选参数，分别表示偏差强度、偏差规模和平衡容忍度。\n",
    "在构造函数中，如果 STRATEGY_LABELS 不为空，会将其复制n次作为新的 STRATEGY_LABELS。然后，将给定的 payoff_matrix 转置后追加到原矩阵后面，构成一个包含两个矩阵的列表。最后，通过调用父类的构造函数，初始化 SymmetricNPlayerGame 的实例。"
   ]
  },
  {
   "cell_type": "code",
   "execution_count": 1,
   "id": "e81aaf24",
   "metadata": {},
   "outputs": [],
   "source": [
    "from games.game import SymmetricNPlayerGame\n",
    "# Class that defines the Prisoners’ Dilemma game.\n",
    "class PrisonersDilemma(SymmetricNPlayerGame):\n",
    "    DEFAULT_PARAMS = dict(R = 3, S = 0, T = 5, P = 1, bias_strength = 0)# List of strategies\n",
    "    STRATEGY_LABELS = ('合作者', '反叛者')# List of equilibria\n",
    "    EQUILIBRIA_LABELS = ('合作', '反叛')\n",
    "    \n",
    "    def __init__(self, R, S, T, P, bias_strength): #Define the payoff matrix\n",
    "        payoff_matrix = ((R, S), (T, P))\n",
    "        super(PrisonersDilemma, self).__init__(payoff_matrix, 1, bias_strength)\n",
    "        \n",
    "    @ classmethod\n",
    "    # Function that defines the equilibria\n",
    "    def classify(cls, params, state, tolerance):\n",
    "        threshold = 1 - tolerance\n",
    "        if state[0][0] > threshold:\n",
    "            return 0# Cooperate\n",
    "        elif state[0][1] > threshold:\n",
    "            return 1# Defect\n",
    "        else :\n",
    "            return super(PrisonersDilemma, cls).classify(params, state, tolerance)"
   ]
  },
  {
   "cell_type": "code",
   "execution_count": 2,
   "id": "bb96561f",
   "metadata": {},
   "outputs": [
    {
     "name": "stdout",
     "output_type": "stream",
     "text": [
      "<class '__main__.PrisonersDilemma'>\n"
     ]
    }
   ],
   "source": [
    "print(PrisonersDilemma)"
   ]
  },
  {
   "cell_type": "markdown",
   "id": "00b990a0",
   "metadata": {},
   "source": [
    "这段代码定义了一个名为 PD 的类，它继承自 SymmetricNPlayerGame 类。PD 类代表了一个囚徒困境博弈。\n",
    "\n",
    "类变量 `DEFAULT_PARAMS` 是一个字典，包含囚徒困境博弈中的四个参数 R、S、T 和 P，以及偏见强度 bias_strength 和偏见规模 bias_scale。这些参数将在 `__init__` 方法中使用。\n",
    "\n",
    "`STRATEGY_LABELS` 是一个元组，它包含博弈中使用的两种策略标签：“合作”和“背叛”。\n",
    "\n",
    "`EQUILIBRIA_LABELS` 是一个元组，它包含两种平衡状态的标签：“合作”和“背叛”。\n",
    "\n",
    "`__init__` 方法使用给定的 R、S、T、P、bias_strength 和 bias_scale 参数初始化一个 2x2 的元组 `payoff_matrix`，并将其传递给父类 SymmetricNPlayerGame 的构造函数。同时，传递了参数1表示仅有一种类型的玩家在游戏中参与。\n",
    "\n",
    "`classify` 方法根据给定的参数和当前状态，判断当前策略处于哪个平衡状态。当玩家采取“合作”时，收益为 R（reward）；当玩家采取“背叛”时，收益为 T（temptation）。当对手采取“合作”时，收益为 S（sucker's payoff）；当对手采取“背叛”时，收益为 P（punishment）。判断状态的方法是，如果玩家采取“合作”策略的比例大于等于 \n",
    "$$\n",
    "1-\\text{tolerance}\n",
    "$$\n",
    "，则返回0，表示当前处于“合作”状态；如果玩家采取“背叛”策略的比例大于等于\n",
    "$$\n",
    "1-\\text{tolerance}\n",
    "$$\n",
    "，则返回1，表示当前处于“背叛”状态；否则，调用父类 SymmetricNPlayerGame 的 `classify` 方法进行分类。"
   ]
  },
  {
   "cell_type": "code",
   "execution_count": 3,
   "id": "37c6c50b",
   "metadata": {},
   "outputs": [],
   "source": [
    "# import matplotlib\n",
    "# print(matplotlib.matplotlib_fname())"
   ]
  },
  {
   "cell_type": "markdown",
   "id": "22cacd04",
   "metadata": {},
   "source": [
    "## 对博弈动态的单一模拟"
   ]
  },
  {
   "cell_type": "code",
   "execution_count": 4,
   "id": "ac2ba18e",
   "metadata": {},
   "outputs": [],
   "source": [
    "#导入中文字体包\n",
    "from matplotlib import font_manager\n",
    "font_manager.fontManager.addfont('/Users/pu/opt/anaconda3/lib/python3.8/site-packages/matplotlib/mpl-data/fonts/ttf/SimHei.ttf')"
   ]
  },
  {
   "cell_type": "code",
   "execution_count": 5,
   "id": "547b4478",
   "metadata": {
    "scrolled": true
   },
   "outputs": [
    {
     "data": {
      "image/png": "[encoded data removed]",
      "text/plain": [
       "<Figure size 432x288 with 1 Axes>"
      ]
     },
     "metadata": {
      "needs_background": "light"
     },
     "output_type": "display_data"
    }
   ],
   "source": [
    "# 使用Moran迭代2000次的策略\n",
    "from wrapper import GameDynamicsWrapper\n",
    "from dynamics.moran import Moran\n",
    "s = GameDynamicsWrapper(PrisonersDilemma, Moran)\n",
    "s.simulate(num_gens = 2000, pop_size = 100, graph = dict(area = True, options = ['smallfont']))\n",
    "# s.simulate(num_gens=100,pop_size=100,graph=dict(area=True,options=['smallfont']))"
   ]
  },
  {
   "cell_type": "markdown",
   "id": "aa9975c3",
   "metadata": {},
   "source": [
    "在许多情况下，我们希望多次运行模拟，以检查在初始条件发生变化或由于动态的固有随机性而产生的结果的稳健性。\n",
    "博弈也可能有多个均衡，在这种情况下，用户可能会对人口在每个均衡中度过的迭代的比例感兴趣。\n",
    "由于这些原因，我们提供了 \"simulate many \"的方法，在这个方法中，模拟的多次迭代被运行，并返回每个结果均衡的频率。\n",
    "如果系统不在使用分类命令确定的状态的 \"容忍度 \"范围内，模拟会返回 \"未分类\"。\n",
    "当进行多次模拟时，它们会自动在所有可用的核心上并行化。\n",
    "我们现在使用 \"simulate many \"和随机的Moran  dynamic，以表明即使在存在随机性的情况下，玩囚徒困境的群体也会稳定在叛逃状态。"
   ]
  },
  {
   "cell_type": "markdown",
   "id": "26d80654",
   "metadata": {},
   "source": [
    "## 博弈的动态模拟多次迭代 Multiple iterations of a simulation of the game’s dynamic"
   ]
  },
  {
   "cell_type": "markdown",
   "id": "78f0ffdb",
   "metadata": {},
   "source": [
    "simulate_many这段代码是一个类的方法，用于模拟博弈，多次迭代，计算出每个策略均衡出现的频率。具体来说，它将调用simulate方法num_iterations次，每次模拟num_gens代，然后平均频率，以得出策略均衡的结果。该方法在计算时进行了并行化处理。\n",
    "\n",
    "参数说明：\n",
    "\n",
    "num_iterations：模拟的次数。\n",
    "num_gens：每次模拟运行的代数。\n",
    "pop_size：总人口数量。\n",
    "start_state：每个玩家策略的初始分布，可以是列表或None。\n",
    "graph：图形的类型，如果不需要图形则为false。\n",
    "histogram：如果为True，则绘制最终人口数量的直方图。graph和histogram不能同时为True。\n",
    "return_labeled：是否应对返回的归类均衡分布进行标记。\n",
    "parallelize：是否并行计算，默认为True。\n",
    "class_end：如果为False，则对所有代进行归类，如果为True，则只对最后一代进行归类。\n",
    "frac_invasions：给定的模拟是否计算某一策略的侵略程度分数。\n",
    "strategy_indx：要计算侵略程度分数的策略的索引。\n",
    "返回值是每个策略均衡出现的频率。"
   ]
  },
  {
   "cell_type": "code",
   "execution_count": 6,
   "id": "69045b22",
   "metadata": {},
   "outputs": [
    {
     "data": {
      "image/png": "[encoded data removed]",
      "text/plain": [
       "<Figure size 432x288 with 1 Axes>"
      ]
     },
     "metadata": {
      "needs_background": "light"
     },
     "output_type": "display_data"
    },
    {
     "data": {
      "text/plain": [
       "{'反叛': 1.0}"
      ]
     },
     "execution_count": 6,
     "metadata": {},
     "output_type": "execute_result"
    }
   ],
   "source": [
    "# 使用Moran迭代2000次，平均100次记录一次\n",
    "from wrapper import GameDynamicsWrapper\n",
    "from dynamics.moran import Moran\n",
    "s = GameDynamicsWrapper(PrisonersDilemma, Moran)\n",
    "s.simulate_many(num_iterations = 100, num_gens = 2000, pop_size = 100, graph = dict(area = True, options = ['smallfont']))"
   ]
  },
  {
   "cell_type": "markdown",
   "id": "b6d5c749",
   "metadata": {},
   "source": [
    "## 近似固定概率 Approximating Fixation Probabilities "
   ]
  },
  {
   "cell_type": "markdown",
   "id": "9f9440a7",
   "metadata": {},
   "source": [
    "以下几行代码可用于近似计算囚徒困境中 \"反叛者\"的发生概率，tolerance设置为0。\n",
    "囚徒困境中策略的失效概率可以通过分析计算出来（Hindersin等人（2019））。\n",
    "对于我们模拟中使用的报酬和选择强度，\"缺陷 \"的失效概率为0.8，这与通过模拟得到的近似值非常一致。"
   ]
  },
  {
   "cell_type": "code",
   "execution_count": 7,
   "id": "b212ee95",
   "metadata": {},
   "outputs": [
    {
     "data": {
      "text/plain": [
       "'Fraction of runs where the required strategy dominated the population = 0.79'"
      ]
     },
     "execution_count": 7,
     "metadata": {},
     "output_type": "execute_result"
    }
   ],
   "source": [
    "from wrapper import GameDynamicsWrapper\n",
    "from dynamics.moran import Moran\n",
    "s = GameDynamicsWrapper(PrisonersDilemma, Moran)\n",
    "s.frac_invasions(num_iterations = 1000, num_gens = 2000, pop_size = 100, strategy_indx = 1)# Index of strategy‘ Defect’"
   ]
  },
  {
   "cell_type": "markdown",
   "id": "03859e49",
   "metadata": {},
   "source": [
    "## 不同参数的影响Eﬀect of varying parameters"
   ]
  },
  {
   "cell_type": "markdown",
   "id": "3a06a6eb",
   "metadata": {},
   "source": [
    "我们提供 \"vary \"方法来分析改变一个或多个与动力学或游戏相关的参数的影响。对于每一个被改变的参数值，都要进行多次迭代模拟，并记录每个平衡的最终频率。输出是这些最终频率与不同参数的函数关系图。作为一个例子，我们改变了囚徒困境游戏中的报酬值T（1, 2, ..., 10）。\n",
    "下图显示了在固定的R=3的情况下，改变T的策略比例的均衡情况。当T>R时，该游戏是囚徒困境，因此，我们看到一旦如此，动态就会收敛为叛逃。\n"
   ]
  },
  {
   "cell_type": "code",
   "execution_count": 8,
   "id": "25bbfd74",
   "metadata": {},
   "outputs": [
    {
     "data": {
      "image/png": "[encoded data removed]",
      "text/plain": [
       "<Figure size 432x288 with 1 Axes>"
      ]
     },
     "metadata": {
      "needs_background": "light"
     },
     "output_type": "display_data"
    },
    {
     "data": {
      "text/plain": [
       "<results.TwoDimensionalData at 0x7feebd0cce80>"
      ]
     },
     "execution_count": 8,
     "metadata": {},
     "output_type": "execute_result"
    }
   ],
   "source": [
    "# 每个模拟运行了4000代，每个T值（1，2，...，10）平均进行了100次迭代。\n",
    "#我们在所有的模拟中使用了100个种群规模，囚徒困境中的报酬设定为R=3，S=0，T=5和P=1。\n",
    "from wrapper import VariedGame\n",
    "from dynamics.moran import Moran\n",
    "s = VariedGame(PrisonersDilemma, Moran)\n",
    "s.vary(game_kwargs = {'T': [0, 10, 10]}, num_gens = 4000, num_iterations = 100, graph = dict(area = True, options = ['smallfont']))"
   ]
  },
  {
   "cell_type": "markdown",
   "id": "fa151b48",
   "metadata": {},
   "source": [
    "## 频率偏差模仿 Frequency   Biased   Imitation"
   ]
  },
  {
   "cell_type": "markdown",
   "id": "00e1e1a7",
   "metadata": {},
   "source": [
    "### 囚徒困境中的顺从主义 Conformism  in  Prisoners’  Dilemma"
   ]
  },
  {
   "cell_type": "markdown",
   "id": "f7cdc12e",
   "metadata": {},
   "source": [
    "顺应主义是一种社会学习策略，参与者通过模仿大多数人学习策略（R.Boyd和P.J.Richerson，1985）。\n",
    "将顺应主义的影响添加到迄今为止所考虑的基于报酬的学习中，有助于在某些条件下稳定合作。\n",
    "我们可以通过VariedGame类来模拟囚徒困境游戏的这个系统，并改变顺应论的强度来重现（Molleman等人，2013）的结果。\n",
    "模拟中使用的所有参数见SI。"
   ]
  },
  {
   "cell_type": "code",
   "execution_count": 9,
   "id": "a30f8a7c",
   "metadata": {},
   "outputs": [
    {
     "data": {
      "image/png": "[encoded data removed]",
      "text/plain": [
       "<Figure size 432x288 with 1 Axes>"
      ]
     },
     "metadata": {
      "needs_background": "light"
     },
     "output_type": "display_data"
    },
    {
     "data": {
      "text/plain": [
       "<results.TwoDimensionalData at 0x7feebd33ac10>"
      ]
     },
     "execution_count": 9,
     "metadata": {},
     "output_type": "execute_result"
    }
   ],
   "source": [
    "from wrapper import VariedGame\n",
    "from dynamics.wright_fisher import WrightFisher\n",
    "s = VariedGame(PrisonersDilemma, WrightFisher)\n",
    "s.vary(game_kwargs = {'bias_strength': [0, 1, 10]}, num_gens = 100, num_iterations = 100, parallelize = True, graph = dict(area = True, options = ['smallfont']))"
   ]
  },
  {
   "cell_type": "code",
   "execution_count": null,
   "id": "c2e99374",
   "metadata": {},
   "outputs": [],
   "source": []
  }
 ],
 "metadata": {
  "kernelspec": {
   "display_name": "Python 3",
   "language": "python",
   "name": "python3"
  },
  "language_info": {
   "codemirror_mode": {
    "name": "ipython",
    "version": 3
   },
   "file_extension": ".py",
   "mimetype": "text/x-python",
   "name": "python",
   "nbconvert_exporter": "python",
   "pygments_lexer": "ipython3",
   "version": "3.8.8"
  }
 },
 "nbformat": 4,
 "nbformat_minor": 5
}
