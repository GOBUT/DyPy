{
 "cells": [
  {
   "cell_type": "markdown",
   "id": "8f6dff42",
   "metadata": {},
   "source": [
    "## 定义起始状态"
   ]
  },
  {
   "cell_type": "markdown",
   "id": "6bc859e0",
   "metadata": {},
   "source": [
    "开始状态 \"对应于用户可以指定的策略的初始频率。\n",
    "它是一个大小为m×n×l的多维列表，其中m是组的数量，n是玩家类型的数量，l是玩家策略的数量。\n",
    "例如，在正文中定义的囚徒困境游戏中，在没有分组选择的情况下，开始状态将是以下形式\n",
    "start_state = [[[60,40]]]   \n",
    "这意味着，在100个个体的总人口中，开始时有60个个体在玩 \"合作\"，而40个个体在玩 \"叛逃\"。\n",
    "这两种策略的顺序取决于游戏中的定义方式。在使用任何一种模拟方法时，都可以包括起始状态，例如\n",
    "s.simulate(num_gens=100,pop_size=100,start_state=[[[60,40]]])"
   ]
  },
  {
   "cell_type": "markdown",
   "id": "6745362b",
   "metadata": {},
   "source": [
    "## 突变 Mutations"
   ]
  },
  {
   "cell_type": "markdown",
   "id": "194e7b78",
   "metadata": {},
   "source": [
    "我们提供了将突变的影响纳入两个随机动态的功能--Wright-Fisher和 Moran。 \n",
    "用户可以提供一个适用于每个策略的通用突变率，或者提供一个突变率列表，每个玩家的每个策略都有自己的突变率。\n",
    "例如，在一个2人游戏中，玩家1有2个策略，玩家2有3个策略，突变矩阵的形式为：\n",
    "mu = [[0.1,0.2],[0.1,0.2,0.3]]\n",
    "并可以在初始化GameDynamicWrapper或VariedGame类时指定：\n",
    "s = GameDynamicsWrapper(PrisonersDilemma,Moran,dynamics_kwargs={‘mu’:[[0.1,0.2],[0.1,0.2,0.3]]})"
   ]
  },
  {
   "cell_type": "markdown",
   "id": "0c0078cc",
   "metadata": {},
   "source": [
    "## 重复囚徒困境 Repeated  Prisoners’  Dilemma"
   ]
  },
  {
   "cell_type": "markdown",
   "id": "4d624aad",
   "metadata": {},
   "source": [
    "人们利用不同的方法来稳定标准囚徒困境中的合作（Nowak，2006）。\n",
    "重复 \"游戏是指游戏不是只玩一次，而是在两个玩家之间重复多次。\n",
    "对于这样的游戏，有一些策略，如针锋相对（Tit-for-tat，TFT）策略，可以稳定地抵御总是反叛（ALLD）的入侵（Axelrod，1980a，b）。\n",
    "TFT从合作开始，然后在随后的几轮中，无论对手在前一轮中采取什么策略，都会进行博弈。我们可以模拟一个TFT、ALLD和ALLC的种群，并表明TFT有助于在没有错误的情况下保持合作。\n",
    "在这一节中，我们说明了模拟的结果。关于博弈（RepeatedPD）是如何编码的，以及我们是如何定义预期均衡状态的，见下一节。\n",
    "我们首先用Replicator动态模拟人口：\n",
    "\n",
    "s = GameDynamicsWrapper(RepeatedPD, Replicator)\n",
    "s.simulate(num_gens = 100, pop_size = 100, graph = dict(area = True, options = ['smallfont']))\n",
    "\n",
    "这个模拟的结果是图1A，显示TFT帮助ALLC主导ALLD。 接下来，我们检查这个最终状态在随机性存在下的稳健性：\n",
    "\n",
    "s = GameDynamicsWrapper(RepeatedPD, Moran)\n",
    "s.simulate_many(num_iterations = 100, num_gens = 2000, pop_size = 100, class_end = True, graph = dict(area = True, options = ['smallfont']))\n",
    "\n",
    "该命令返回一个文本输出，包括每个平衡的比例。\n"
   ]
  }
 ],
 "metadata": {
  "kernelspec": {
   "display_name": "Python 3",
   "language": "python",
   "name": "python3"
  },
  "language_info": {
   "codemirror_mode": {
    "name": "ipython",
    "version": 3
   },
   "file_extension": ".py",
   "mimetype": "text/x-python",
   "name": "python",
   "nbconvert_exporter": "python",
   "pygments_lexer": "ipython3",
   "version": "3.8.8"
  }
 },
 "nbformat": 4,
 "nbformat_minor": 5
}
